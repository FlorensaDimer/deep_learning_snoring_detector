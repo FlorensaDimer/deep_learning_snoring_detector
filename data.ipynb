{
 "cells": [
  {
   "cell_type": "code",
   "execution_count": 3,
   "metadata": {},
   "outputs": [],
   "source": [
    "import numpy as np\n",
    "import pandas as pd\n",
    "\n",
    "import os\n",
    "\n",
    "import librosa\n"
   ]
  },
  {
   "cell_type": "code",
   "execution_count": 4,
   "metadata": {},
   "outputs": [
    {
     "name": "stderr",
     "output_type": "stream",
     "text": [
      "C:\\Users\\Florensa Dimer\\AppData\\Local\\Temp\\ipykernel_9136\\1093642145.py:11: FutureWarning: get_duration() keyword argument 'filename' has been renamed to 'path' in version 0.10.0.\n",
      "\tThis alias will be removed in version 1.0.\n",
      "  duration = librosa.get_duration(filename=caminho_completo)\n",
      "C:\\Users\\Florensa Dimer\\AppData\\Local\\Temp\\ipykernel_9136\\1093642145.py:18: FutureWarning: get_duration() keyword argument 'filename' has been renamed to 'path' in version 0.10.0.\n",
      "\tThis alias will be removed in version 1.0.\n",
      "  duration = librosa.get_duration(filename=caminho_completo)\n"
     ]
    }
   ],
   "source": [
    "not_snoring = 'dataset/notsnoring'\n",
    "snoring = 'dataset/snoring'\n",
    "\n",
    "data_not_snoring = []\n",
    "data_snoring = []\n",
    "\n",
    "for caminho_arquivo in os.listdir(not_snoring):\n",
    "    if caminho_arquivo.endswith('.wav'):\n",
    "        caminho_completo = os.path.join(not_snoring, caminho_arquivo)\n",
    "        # Carrega o arquivo e obtém a duração\n",
    "        duration = librosa.get_duration(filename=caminho_completo)\n",
    "        data_not_snoring.append({'file': caminho_arquivo, 'label': 0, 'duration': duration})\n",
    "\n",
    "for caminho_arquivo in os.listdir(snoring):\n",
    "    if caminho_arquivo.endswith('.wav'):\n",
    "        caminho_completo = os.path.join(snoring, caminho_arquivo)\n",
    "        # Carrega o arquivo e obtém a duração\n",
    "        duration = librosa.get_duration(filename=caminho_completo)\n",
    "        data_snoring.append({'file': caminho_arquivo, 'label': 1, 'duration': duration})\n"
   ]
  },
  {
   "cell_type": "code",
   "execution_count": 7,
   "metadata": {},
   "outputs": [
    {
     "name": "stdout",
     "output_type": "stream",
     "text": [
      "<class 'pandas.core.frame.DataFrame'>\n",
      "RangeIndex: 500 entries, 0 to 499\n",
      "Data columns (total 3 columns):\n",
      " #   Column    Non-Null Count  Dtype  \n",
      "---  ------    --------------  -----  \n",
      " 0   file      500 non-null    object \n",
      " 1   label     500 non-null    int64  \n",
      " 2   duration  500 non-null    float64\n",
      "dtypes: float64(1), int64(1), object(1)\n",
      "memory usage: 11.8+ KB\n",
      "None\n",
      "<class 'pandas.core.frame.DataFrame'>\n",
      "RangeIndex: 500 entries, 0 to 499\n",
      "Data columns (total 3 columns):\n",
      " #   Column    Non-Null Count  Dtype  \n",
      "---  ------    --------------  -----  \n",
      " 0   file      500 non-null    object \n",
      " 1   label     500 non-null    int64  \n",
      " 2   duration  500 non-null    float64\n",
      "dtypes: float64(1), int64(1), object(1)\n",
      "memory usage: 11.8+ KB\n",
      "None\n"
     ]
    }
   ],
   "source": [
    "df_not_snoring = pd.DataFrame(data_not_snoring)\n",
    "df_snoring = pd.DataFrame(data_snoring)\n",
    "\n",
    "# Exibindo as primeiras linhas dos DataFrames\n",
    "print(df_not_snoring.info())\n",
    "print(df_snoring.info())"
   ]
  }
 ],
 "metadata": {
  "kernelspec": {
   "display_name": "Python 3",
   "language": "python",
   "name": "python3"
  },
  "language_info": {
   "codemirror_mode": {
    "name": "ipython",
    "version": 3
   },
   "file_extension": ".py",
   "mimetype": "text/x-python",
   "name": "python",
   "nbconvert_exporter": "python",
   "pygments_lexer": "ipython3",
   "version": "3.12.6"
  }
 },
 "nbformat": 4,
 "nbformat_minor": 2
}
